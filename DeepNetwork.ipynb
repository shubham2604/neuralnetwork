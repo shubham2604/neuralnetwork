{
 "cells": [
  {
   "cell_type": "code",
   "execution_count": 1,
   "metadata": {},
   "outputs": [],
   "source": [
    "import numpy as np\n",
    "import pandas as pd"
   ]
  },
  {
   "cell_type": "code",
   "execution_count": 2,
   "metadata": {},
   "outputs": [],
   "source": [
    "class Neural_Network:\n",
    "    \n",
    "    \n",
    "    def __init__(self,shapes,activations):\n",
    "        if(len(shapes)-1!=len(activations)):\n",
    "            print('error: Shape and Activation do not match')\n",
    "        self.shapes = shapes\n",
    "        self.activations = activations\n",
    "        self.modelweights = []\n",
    "        self.modelbias = []\n",
    "    \n",
    "    def show_details(self):\n",
    "        print(self.shapes.shape)\n",
    "        print(self.activations)\n",
    "        \n",
    "    def initialize_weights_and_bias(self):\n",
    "        weights = []\n",
    "        bias = []\n",
    "        for i in range(self.shapes.shape[0]-1):\n",
    "            variance = np.sqrt(2/(self.shapes[i]+self.shapes[i+1]))\n",
    "            initial_weights = np.random.normal(0,variance,self.shapes[i]*self.shapes[i+1])\n",
    "            weights.append(initial_weights.reshape(self.shapes[i],self.shapes[i+1]))\n",
    "            bias.append(np.zeros(self.shapes[i+1]))\n",
    "        return weights,bias\n",
    "    \n",
    "    def loss(self,Hypothesis,y):\n",
    "        return - np.sum(np.multiply(np.log(Hypothesis+1e-10) , (y)), axis=1)\n",
    "    \n",
    "    def softmax(x):\n",
    "        x = x.transpose()\n",
    "        maxima = np.amax(x,axis=0)\n",
    "        x = x-maxima\n",
    "        numerator = np.exp(x)\n",
    "        return (numerator/numerator.sum(axis=0)).transpose()\n",
    "    \n",
    "    def tanh(x):\n",
    "        x = -2*x\n",
    "        denom = 1+np.exp(x)\n",
    "        num = (2/denom)-1\n",
    "        return num\n",
    "\n",
    "    activation_map = {'softmax': softmax,'tanh': tanh}\n",
    "    \n",
    "    def forward_pass(self,X,weights,bias):\n",
    "        cached_output = []\n",
    "        cached_output_activated = []\n",
    "        for i in range(len(weights)):\n",
    "            temp = X@np.array(weights[i])+np.array(bias[i])\n",
    "            cached_output.append(temp)\n",
    "            temp = self.activation_map[self.activations[i]](temp)\n",
    "            cached_output_activated.append(temp)\n",
    "            X = temp\n",
    "        #print(cached_output_activated[2].shape)\n",
    "        return cached_output,cached_output_activated\n",
    "    \n",
    "    def softmax_input_derivative(self,cached_output_activated,y):\n",
    "        return (1/y.shape[0]) * (cached_output_activated[len(cached_output_activated)-1]-y)\n",
    "    \n",
    "    def tanh_input_derivative(self,cached_activated):\n",
    "        return 1-cached_activated**2\n",
    "    \n",
    "    def backprop(self,X,y,weights,bias,cached_output,cached_output_activated,l):\n",
    "        derivative_at_softmax_input = self.softmax_input_derivative(cached_output_activated,y)\n",
    "        #for i in range(len(self.activations)-1,-1,-1):\n",
    "    \n",
    "        d_w2 = np.matrix(cached_output_activated[1]).transpose()@np.matrix(derivative_at_softmax_input)\n",
    "        weights[2] = weights[2] - l*d_w2\n",
    "        bias[2] = bias[2] - np.mean(l*derivative_at_softmax_input,axis=0)\n",
    "        \n",
    "        derivative_at_tanh_input1 = np.multiply(np.matrix(derivative_at_softmax_input)@weights[2].transpose(),np.matrix(self.tanh_input_derivative(cached_output_activated[1])))\n",
    "        \n",
    "        d_w1 = np.matrix(cached_output_activated[0]).transpose()@ derivative_at_tanh_input1\n",
    "        weights[1] = weights[1] - l*d_w1\n",
    "        bias[1] = bias[1] - l*np.mean(derivative_at_tanh_input1)\n",
    "        \n",
    "        derivative_at_tanh_input0 = np.multiply(np.matrix(derivative_at_tanh_input1)@weights[1].transpose(),np.matrix(self.tanh_input_derivative(cached_output_activated[0])))\n",
    "        \n",
    "        d_w0 = np.matrix(X).transpose()@ derivative_at_tanh_input0\n",
    "        weights[0] = weights[0] - l*d_w0\n",
    "        bias[0] = bias[0] - l*np.mean(derivative_at_tanh_input0)\n",
    "        \n",
    "        return weights,bias\n",
    "    \n",
    "    def set_parameters(self,weights_,bias_):\n",
    "        self.modelweights = weights_\n",
    "        self.modelbias = bias_\n",
    "        \n",
    "    def predict(self,X):\n",
    "        cached_output_not_used,cached_output_activations = self.forward_pass(X,self.modelweights,self.modelbias)\n",
    "        return cached_output_activations[2]\n",
    "        \n",
    "    def fit(self,X,y,batch_size,learning_rate,epochs):\n",
    "        weights,bias = self.initialize_weights_and_bias()\n",
    "        loss = np.zeros(epochs)\n",
    "        for i in range(epochs):\n",
    "            if(i%50 == 0):\n",
    "                learning_rate/= 10\n",
    "            for j in range(0,X.shape[0],batch_size):\n",
    "                cached_output,cached_output_activated = self.forward_pass(X[j:j+batch_size,:],weights,bias)\n",
    "                weights,bias = self.backprop(X[j:j+batch_size,:],y[j:j+batch_size,:],weights,bias,cached_output,cached_output_activated,learning_rate)\n",
    "            loss[i] = np.mean(self.loss(self.forward_pass(X,weights,bias)[1][2],y))\n",
    "        self.set_parameters(weights,bias)\n",
    "        return loss\n",
    "        #print(weights,bias)\n",
    "        #return weights,bias"
   ]
  },
  {
   "cell_type": "code",
   "execution_count": 3,
   "metadata": {},
   "outputs": [],
   "source": [
    "Shape = np.array([784,200,200,10])\n",
    "Activation = np.array(['tanh','tanh','softmax'])\n",
    "model = Neural_Network(Shape,Activation)\n",
    "#weights,bias = model.initialize_weights_and_bias()"
   ]
  },
  {
   "cell_type": "code",
   "execution_count": 4,
   "metadata": {},
   "outputs": [],
   "source": [
    "def createOneHotVectors(x):\n",
    "    mat = np.zeros((x.shape[0],np.max(np.array(x))+1))\n",
    "    mat[np.arange(x.shape[0]),x.flatten()] = 1\n",
    "    return mat\n",
    "\n",
    "Test_data = np.array(pd.read_csv('mnist/mnist-test-data.csv',sep = \" \",header = None))/255\n",
    "Test_labels = createOneHotVectors(np.array(pd.read_csv('mnist/mnist-test-labels.csv',sep = \" \",header = None)))\n",
    "Train_data = np.array(pd.read_csv('mnist/mnist-train-data.csv',sep = \" \",header = None))/255\n",
    "Train_labels = createOneHotVectors(np.array(pd.read_csv('mnist/mnist-train-labels.csv',sep = \" \",header = None)))"
   ]
  },
  {
   "cell_type": "code",
   "execution_count": 5,
   "metadata": {
    "scrolled": false
   },
   "outputs": [],
   "source": [
    "loss = model.fit(Train_data,Train_labels,200,1,100)"
   ]
  },
  {
   "cell_type": "code",
   "execution_count": 13,
   "metadata": {},
   "outputs": [
    {
     "data": {
      "image/png": "[encoded data removed]",
      "text/plain": [
       "<Figure size 432x288 with 1 Axes>"
      ]
     },
     "metadata": {
      "needs_background": "light"
     },
     "output_type": "display_data"
    }
   ],
   "source": [
    "import matplotlib.pyplot as plt\n",
    "\n",
    "plt.plot(loss)\n",
    "plt.show()"
   ]
  },
  {
   "cell_type": "code",
   "execution_count": 19,
   "metadata": {},
   "outputs": [
    {
     "data": {
      "text/plain": [
       "0.99928"
      ]
     },
     "execution_count": 19,
     "metadata": {},
     "output_type": "execute_result"
    }
   ],
   "source": [
    "1-np.count_nonzero(np.argmax(Train_labels,axis=1).reshape(1,50000)!=np.argmax(model.predict(Train_data),axis=1))/50000"
   ]
  },
  {
   "cell_type": "code",
   "execution_count": 14,
   "metadata": {},
   "outputs": [
    {
     "data": {
      "text/plain": [
       "0.9788"
      ]
     },
     "execution_count": 14,
     "metadata": {},
     "output_type": "execute_result"
    }
   ],
   "source": [
    "1-np.count_nonzero(np.argmax(Test_labels,axis=1).reshape(1,10000)!=np.argmax(model.predict(Test_data),axis=1))/10000"
   ]
  },
  {
   "cell_type": "code",
   "execution_count": 15,
   "metadata": {},
   "outputs": [
    {
     "data": {
      "text/plain": [
       "212"
      ]
     },
     "execution_count": 15,
     "metadata": {},
     "output_type": "execute_result"
    }
   ],
   "source": [
    "np.count_nonzero(np.argmax(Test_labels,axis=1).reshape(1,10000)!=np.argmax(model.predict(Test_data),axis=1))"
   ]
  },
  {
   "cell_type": "code",
   "execution_count": 16,
   "metadata": {},
   "outputs": [
    {
     "data": {
      "image/png": "[encoded data removed]",
      "text/plain": [
       "<Figure size 432x288 with 1 Axes>"
      ]
     },
     "metadata": {
      "needs_background": "light"
     },
     "output_type": "display_data"
    }
   ],
   "source": [
    "HardExamples = (np.argmax(Test_labels,axis=1).reshape(1,10000)!=np.argmax(model.predict(Test_data),axis=1))\n",
    "Hard_test_data = Test_data[HardExamples.flatten()]\n",
    "Hard_test_data = Hard_test_data.reshape(-1,28,28)\n",
    "plt.imshow(Hard_test_data[6],cmap='gray')\n",
    "plt.show()"
   ]
  },
  {
   "cell_type": "code",
   "execution_count": 17,
   "metadata": {},
   "outputs": [
    {
     "data": {
      "text/plain": [
       "array([9.97951340e-01, 6.50746761e-10, 2.87412128e-08, 4.62061663e-08,\n",
       "       4.93025236e-07, 2.33590369e-04, 1.79614818e-03, 6.51765167e-06,\n",
       "       9.16310287e-06, 2.67252739e-06])"
      ]
     },
     "execution_count": 17,
     "metadata": {},
     "output_type": "execute_result"
    }
   ],
   "source": [
    "model.predict(Test_data[HardExamples.flatten()])[6]"
   ]
  },
  {
   "cell_type": "code",
   "execution_count": 18,
   "metadata": {},
   "outputs": [
    {
     "data": {
      "text/plain": [
       "array([0., 0., 0., 0., 0., 0., 1., 0., 0., 0.])"
      ]
     },
     "execution_count": 18,
     "metadata": {},
     "output_type": "execute_result"
    }
   ],
   "source": [
    "Test_labels[HardExamples.flatten()][6]"
   ]
  }
 ],
 "metadata": {
  "kernelspec": {
   "display_name": "Python 3",
   "language": "python",
   "name": "python3"
  },
  "language_info": {
   "codemirror_mode": {
    "name": "ipython",
    "version": 3
   },
   "file_extension": ".py",
   "mimetype": "text/x-python",
   "name": "python",
   "nbconvert_exporter": "python",
   "pygments_lexer": "ipython3",
   "version": "3.6.6"
  }
 },
 "nbformat": 4,
 "nbformat_minor": 2
}
