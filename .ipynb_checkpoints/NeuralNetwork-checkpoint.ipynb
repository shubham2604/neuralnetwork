{
 "cells": [
  {
   "cell_type": "code",
   "execution_count": null,
   "metadata": {},
   "outputs": [],
   "source": [
    "import numpy as np\n",
    "import pandas as pd"
   ]
  },
  {
   "cell_type": "code",
   "execution_count": null,
   "metadata": {},
   "outputs": [],
   "source": [
    "######give column vector as an Input######\n",
    "\n",
    "def softmax(x):\n",
    "    numerator = np.exp(x)\n",
    "    return numerator/np.sum(numerator)"
   ]
  },
  {
   "cell_type": "code",
   "execution_count": null,
   "metadata": {},
   "outputs": [],
   "source": [
    "######give column vector as an Input######\n",
    "\n",
    "def softmaxJacobian(x):\n",
    "    indicator = np.eye(x.shape[0])\n",
    "    return np.multiply(softmax(x),(indicator-softmax(x)))"
   ]
  },
  {
   "cell_type": "code",
   "execution_count": null,
   "metadata": {},
   "outputs": [],
   "source": [
    "Train_data = pd.read_csv('mnist/mnist-train-data.csv',sep = \" \",header = None)\n",
    "Train_labels = pd.read_csv('mnist/mnist-train-labels.csv',sep = \" \",header = None)\n",
    "Test_data = pd.read_csv('mnist/mnist-test-data.csv',sep = \" \",header = None)\n",
    "Test_labels = pd.read_csv('mnist/mnist-test-labels.csv',sep = \" \",header = None)\n",
    "CV_data = pd.read_csv('mnist/mnist-valid-data.csv',sep = \" \",header = None)\n",
    "CV_labels = pd.read_csv('mnist/mnist-valid-labels.csv',sep = \" \",header = None)"
   ]
  },
  {
   "cell_type": "code",
   "execution_count": null,
   "metadata": {},
   "outputs": [],
   "source": [
    "def createOneHotVectors(x):\n",
    "    mat = np.zeros((x.shape[0],np.max(np.array(x))+1))\n",
    "    mat[:,x] = 1\n",
    "    print(mat[1:10,:])"
   ]
  },
  {
   "cell_type": "code",
   "execution_count": null,
   "metadata": {},
   "outputs": [],
   "source": [
    "createOneHotVectors(Train_labels)"
   ]
  },
  {
   "cell_type": "code",
   "execution_count": null,
   "metadata": {},
   "outputs": [],
   "source": []
  }
 ],
 "metadata": {
  "kernelspec": {
   "display_name": "Python 3",
   "language": "python",
   "name": "python3"
  }
 },
 "nbformat": 4,
 "nbformat_minor": 2
}
