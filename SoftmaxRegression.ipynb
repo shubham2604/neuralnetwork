{
 "cells": [
  {
   "cell_type": "code",
   "execution_count": 1,
   "metadata": {},
   "outputs": [],
   "source": [
    "import numpy as np\n",
    "import pandas as pd"
   ]
  },
  {
   "cell_type": "code",
   "execution_count": 2,
   "metadata": {},
   "outputs": [],
   "source": [
    "def softmax(x):\n",
    "    x = x.transpose()\n",
    "    maxima = np.amax(x,axis=0)\n",
    "    x = x-maxima\n",
    "    numerator = np.exp(x)\n",
    "    return (numerator/numerator.sum(axis=0)).transpose()"
   ]
  },
  {
   "cell_type": "code",
   "execution_count": 3,
   "metadata": {},
   "outputs": [],
   "source": [
    "def createOneHotVectors(x):\n",
    "    mat = np.zeros((x.shape[0],np.max(np.array(x))+1))\n",
    "    mat[np.arange(x.shape[0]),x.flatten()] = 1\n",
    "    return mat"
   ]
  },
  {
   "cell_type": "code",
   "execution_count": 4,
   "metadata": {},
   "outputs": [],
   "source": [
    "def normalizeData(data):\n",
    "    data = data/255\n",
    "    return data"
   ]
  },
  {
   "cell_type": "code",
   "execution_count": 5,
   "metadata": {},
   "outputs": [],
   "source": [
    "Train_data = normalizeData(np.array(pd.read_csv('mnist/mnist-train-data.csv',sep = \" \",header = None)))\n",
    "Train_labels = createOneHotVectors(np.array(pd.read_csv('mnist/mnist-train-labels.csv',sep = \" \",header = None)))\n",
    "Test_data = normalizeData(np.array(pd.read_csv('mnist/mnist-test-data.csv',sep = \" \",header = None)))\n",
    "Test_labels = createOneHotVectors(np.array(pd.read_csv('mnist/mnist-test-labels.csv',sep = \" \",header = None)))\n",
    "CV_data = normalizeData(np.array(pd.read_csv('mnist/mnist-valid-data.csv',sep = \" \",header = None)))\n",
    "CV_labels = createOneHotVectors(np.array(pd.read_csv('mnist/mnist-valid-labels.csv',sep = \" \",header = None)))"
   ]
  },
  {
   "cell_type": "code",
   "execution_count": 6,
   "metadata": {},
   "outputs": [],
   "source": [
    "def crossEntropyLoss(Hypothesis,y):\n",
    "    return - np.sum(np.multiply(np.log(Hypothesis+1e-10) , (y)), axis=1)"
   ]
  },
  {
   "cell_type": "code",
   "execution_count": 7,
   "metadata": {},
   "outputs": [],
   "source": [
    "def forward_pass(X,w,b):\n",
    "    return X@w+b"
   ]
  },
  {
   "cell_type": "code",
   "execution_count": 8,
   "metadata": {},
   "outputs": [],
   "source": [
    "def Backward_pass(X_,hypo,y_,w,b,l):\n",
    "    gradient_at_softmax_input = find_gradient(hypo,y_)\n",
    "    d_weights = X_.transpose()@gradient_at_softmax_input\n",
    "    d_bias = np.mean(gradient_at_softmax_input,axis=0)\n",
    "    w = w - l* d_weights\n",
    "    b = b - l* d_bias\n",
    "    return w,b"
   ]
  },
  {
   "cell_type": "code",
   "execution_count": 9,
   "metadata": {},
   "outputs": [],
   "source": [
    "def find_gradient(Hypothesis,y):\n",
    "    return (1/y.shape[0]) * (Hypothesis-y)\n"
   ]
  },
  {
   "cell_type": "code",
   "execution_count": 10,
   "metadata": {},
   "outputs": [],
   "source": [
    "def fit(X,y,Batch_size,Learning_rate,epochs):\n",
    "   \n",
    "    bias = np.zeros((1,Train_labels.shape[1]))\n",
    "    variance = np.sqrt(2/(X.shape[1]+y.shape[1]))\n",
    "    initial_weights = np.random.normal(0,variance,X.shape[1]*y.shape[1])\n",
    "    weights = initial_weights.reshape(X.shape[1],y.shape[1])\n",
    "    loss = np.zeros(epochs)\n",
    "    for i in range(epochs):\n",
    "        if(i%50 == 0):\n",
    "            Learning_rate/= 10\n",
    "        Loss = np.empty(Batch_size)\n",
    "        for j in range(0,X.shape[0],Batch_size):\n",
    "            output_layer = forward_pass(X[j:j+Batch_size,:],weights,bias)\n",
    "            output_activations = softmax(output_layer)\n",
    "            weights, bias = Backward_pass(X[j:j+Batch_size,:],output_activations,y[j:j+Batch_size,:],weights,bias,Learning_rate)\n",
    "        np.append(Cost,np.mean(Loss))\n",
    "    return weights,bias,Cost"
   ]
  },
  {
   "cell_type": "code",
   "execution_count": 11,
   "metadata": {},
   "outputs": [],
   "source": [
    "weights,bias,Cost = fit(Train_data,Train_labels,50,1,200)"
   ]
  },
  {
   "cell_type": "code",
   "execution_count": 12,
   "metadata": {},
   "outputs": [
    {
     "data": {
      "text/plain": [
       "0.9255"
      ]
     },
     "execution_count": 12,
     "metadata": {},
     "output_type": "execute_result"
    }
   ],
   "source": [
    "1-(np.count_nonzero(np.argmax(Test_labels,axis=1).reshape(1,10000)  != np.argmax(softmax(np.matmul(Test_data,weights)+bias),axis=1).flatten())/10000)\n"
   ]
  },
  {
   "cell_type": "code",
   "execution_count": 13,
   "metadata": {},
   "outputs": [
    {
     "name": "stdout",
     "output_type": "stream",
     "text": [
      "745\n"
     ]
    }
   ],
   "source": [
    "print(np.count_nonzero(np.argmax(Test_labels,axis=1).reshape(1,10000)  != np.argmax(softmax(np.matmul(Test_data,weights)+bias),axis=1).flatten()))\n",
    "Hard_Examples = (np.argmax(Test_labels,axis=1).reshape(1,10000)  != np.argmax(softmax(np.matmul(Test_data,weights)+bias),axis=1).flatten())"
   ]
  },
  {
   "cell_type": "code",
   "execution_count": 14,
   "metadata": {},
   "outputs": [
    {
     "data": {
      "text/plain": [
       "0.9321"
      ]
     },
     "execution_count": 14,
     "metadata": {},
     "output_type": "execute_result"
    }
   ],
   "source": [
    "1-(np.count_nonzero(np.argmax(Train_labels,axis=1).reshape(1,50000)  != np.argmax(softmax(np.matmul(Train_data,weights)+bias),axis=1).flatten())/50000)"
   ]
  },
  {
   "cell_type": "code",
   "execution_count": 16,
   "metadata": {},
   "outputs": [
    {
     "data": {
      "image/png": "[encoded data removed]",
      "text/plain": [
       "<Figure size 432x288 with 1 Axes>"
      ]
     },
     "metadata": {
      "needs_background": "light"
     },
     "output_type": "display_data"
    }
   ],
   "source": [
    "import matplotlib.pyplot as plt\n",
    "Test_data_hard = Test_data[Hard_Examples.flatten(),:]\n",
    "Test_data_hard= Test_data_hard.reshape(-1,28,28)\n",
    "plt.imshow(Test_data_hard[0],cmap='gray')\n",
    "plt.title('Hard Examples on which our neural network failed',color = 'b')\n",
    "plt.show()"
   ]
  }
 ],
 "metadata": {
  "kernelspec": {
   "display_name": "Python 3",
   "language": "python",
   "name": "python3"
  },
  "language_info": {
   "codemirror_mode": {
    "name": "ipython",
    "version": 3
   },
   "file_extension": ".py",
   "mimetype": "text/x-python",
   "name": "python",
   "nbconvert_exporter": "python",
   "pygments_lexer": "ipython3",
   "version": "3.6.6"
  }
 },
 "nbformat": 4,
 "nbformat_minor": 2
}
